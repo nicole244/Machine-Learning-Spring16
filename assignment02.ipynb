{
 "cells": [
  {
   "cell_type": "markdown",
   "metadata": {},
   "source": [
    "What I did:\n",
    "\n",
    "In Python I first tried using the data as is, and was able to predict 42.5% of the data correctly. I then adjusted the data so that all of the numbers were at the top of the image, which improved the predictions slightly, predicting 47.5% of the images correctly. My next step would be to move all of the numbers to the same side (right or left) so that they would all be in the same region of the image, and scale them so that they all take up approximately the same amount of space. I did not have a chance to figure out exactly how to do this, but I believe it would improve the predictions significantly.\n",
    "\n",
    "The final predictions that were made are in python_final_predictions.csv"
   ]
  },
  {
   "cell_type": "code",
   "execution_count": 71,
   "metadata": {
    "collapsed": true
   },
   "outputs": [],
   "source": [
    "%matplotlib inline\n",
    "import numpy as np\n",
    "import pandas as pd\n",
    "import matplotlib\n",
    "import matplotlib.pyplot as plt\n",
    "from sklearn import linear_model"
   ]
  },
  {
   "cell_type": "code",
   "execution_count": 84,
   "metadata": {
    "collapsed": false
   },
   "outputs": [],
   "source": [
    "#read csvs\n",
    "train = pd.read_csv('train_data02.csv')\n",
    "test = pd.read_csv('test_data_unlabeled02.csv')"
   ]
  },
  {
   "cell_type": "code",
   "execution_count": 85,
   "metadata": {
    "collapsed": false
   },
   "outputs": [],
   "source": [
    "train_values = train.values[:,1:]\n",
    "test_values = test.values[:,1:]"
   ]
  },
  {
   "cell_type": "code",
   "execution_count": 86,
   "metadata": {
    "collapsed": false
   },
   "outputs": [
    {
     "data": {
      "text/plain": [
       "LogisticRegression(C=1.0, class_weight=None, dual=False, fit_intercept=True,\n",
       "          intercept_scaling=1, max_iter=100, multi_class='ovr', n_jobs=1,\n",
       "          penalty='l2', random_state=None, solver='liblinear', tol=0.0001,\n",
       "          verbose=0, warm_start=False)"
      ]
     },
     "execution_count": 86,
     "metadata": {},
     "output_type": "execute_result"
    }
   ],
   "source": [
    "logistic = linear_model.LogisticRegression()\n",
    "logistic.fit(train_values[:,1:],train_values[:,0])"
   ]
  },
  {
   "cell_type": "code",
   "execution_count": 87,
   "metadata": {
    "collapsed": false
   },
   "outputs": [
    {
     "data": {
      "text/plain": [
       "array([8, 8, 6, 6, 6, 8, 8, 8, 8, 6, 6, 8, 6, 6, 6, 8, 6, 8, 6, 8, 6, 8, 6,\n",
       "       6, 6, 8, 8, 8, 8, 6, 8, 6, 6, 8, 6, 6, 6, 6, 8, 8], dtype=int64)"
      ]
     },
     "execution_count": 87,
     "metadata": {},
     "output_type": "execute_result"
    }
   ],
   "source": [
    "prediction = logistic.predict(test_values[:,0:])\n",
    "prediction"
   ]
  },
  {
   "cell_type": "code",
   "execution_count": 88,
   "metadata": {
    "collapsed": false
   },
   "outputs": [
    {
     "data": {
      "text/plain": [
       "0.42499999999999999"
      ]
     },
     "execution_count": 88,
     "metadata": {},
     "output_type": "execute_result"
    }
   ],
   "source": [
    "test_labels = np.array([6,8,6,8,8,6,8,8,6,6,6,8,6,6,8,6,8,8,8,6,8,6,8,8,8,6,8,8,6,8,8,6,6,6,6,6,8,8,6,6])\n",
    "logistic.score(test_values[:,0:],test_solutions)"
   ]
  },
  {
   "cell_type": "code",
   "execution_count": 89,
   "metadata": {
    "collapsed": false
   },
   "outputs": [],
   "source": [
    "#move all training images to the top\n",
    "count = 0\n",
    "for row in train_values:\n",
    "    i = 0\n",
    "    while row[i] == 0:\n",
    "        i += 1\n",
    "    d = int(np.floor(i/28)*28)\n",
    "    row = np.delete(row,range(0,d))\n",
    "    row = np.append(row,np.zeros(d))\n",
    "    train_values[count] = row\n",
    "    count +=1"
   ]
  },
  {
   "cell_type": "code",
   "execution_count": 90,
   "metadata": {
    "collapsed": false
   },
   "outputs": [],
   "source": [
    "#move all test images to the top\n",
    "count = 0\n",
    "for row in test_values:\n",
    "    i = 0\n",
    "    while row[i] == 0:\n",
    "        i += 1\n",
    "    d = int(np.floor(i/28)*28)\n",
    "    row = np.delete(row,range(0,d))\n",
    "    row = np.append(row,np.zeros(d))\n",
    "    test_values[count] = row\n",
    "    count +=1"
   ]
  },
  {
   "cell_type": "code",
   "execution_count": 91,
   "metadata": {
    "collapsed": false
   },
   "outputs": [
    {
     "data": {
      "text/plain": [
       "LogisticRegression(C=1.0, class_weight=None, dual=False, fit_intercept=True,\n",
       "          intercept_scaling=1, max_iter=100, multi_class='ovr', n_jobs=1,\n",
       "          penalty='l2', random_state=None, solver='liblinear', tol=0.0001,\n",
       "          verbose=0, warm_start=False)"
      ]
     },
     "execution_count": 91,
     "metadata": {},
     "output_type": "execute_result"
    }
   ],
   "source": [
    "logistic2 = linear_model.LogisticRegression()\n",
    "logistic2.fit(train_values[:,1:],train_values[:,0])"
   ]
  },
  {
   "cell_type": "code",
   "execution_count": 92,
   "metadata": {
    "collapsed": false
   },
   "outputs": [
    {
     "data": {
      "text/plain": [
       "0.47499999999999998"
      ]
     },
     "execution_count": 92,
     "metadata": {},
     "output_type": "execute_result"
    }
   ],
   "source": [
    "prediction = logistic.predict(test_values[:,0:])\n",
    "logistic2.score(test_values[:,0:],test_solutions)"
   ]
  },
  {
   "cell_type": "code",
   "execution_count": 93,
   "metadata": {
    "collapsed": false
   },
   "outputs": [],
   "source": [
    "test.insert(1,'labels',test_labels)\n",
    "test.insert(1,'predictions',prediction)\n",
    "test.to_csv('python_final_predictions.csv')"
   ]
  }
 ],
 "metadata": {
  "anaconda-cloud": {},
  "kernelspec": {
   "display_name": "Python [Root]",
   "language": "python",
   "name": "Python [Root]"
  },
  "language_info": {
   "codemirror_mode": {
    "name": "ipython",
    "version": 3
   },
   "file_extension": ".py",
   "mimetype": "text/x-python",
   "name": "python",
   "nbconvert_exporter": "python",
   "pygments_lexer": "ipython3",
   "version": "3.5.2"
  }
 },
 "nbformat": 4,
 "nbformat_minor": 0
}
